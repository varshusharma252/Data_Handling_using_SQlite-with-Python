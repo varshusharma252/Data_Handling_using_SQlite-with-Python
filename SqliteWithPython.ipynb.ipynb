{
 "cells": [
  {
   "cell_type": "code",
   "execution_count": null,
   "id": "a90dbd4e",
   "metadata": {},
   "outputs": [
    {
     "name": "stdout",
     "output_type": "stream",
     "text": [
      "                name\n",
      "            Employee\n",
      "            Category\n",
      "            Customer\n",
      "             Shipper\n",
      "            Supplier\n",
      "               Order\n",
      "             Product\n",
      "         OrderDetail\n",
      "CustomerCustomerDemo\n",
      " CustomerDemographic\n",
      "              Region\n",
      "           Territory\n",
      "   EmployeeTerritory\n"
     ]
    }
   ],
   "source": [
    "import pandas as pd\n",
    "import sqlite3\n",
    "\n",
    "conn = sqlite3.connect(\"northwind_small.sqlite\")\n",
    "\n",
    "query = '''\n",
    "    SELECT \n",
    "    name\n",
    "FROM \n",
    "    sqlite_schema\n",
    "WHERE \n",
    "    type ='table' AND \n",
    "    name NOT LIKE 'sqlite_%';\n",
    "'''\n",
    "df = pd.read_sql_query(query, conn)\n",
    "conn.close()\n",
    "\n",
    "print(df.to_string(index=False))"
   ]
  },
  {
   "cell_type": "code",
   "execution_count": 15,
   "id": "60eb5561",
   "metadata": {},
   "outputs": [
    {
     "name": "stdout",
     "output_type": "stream",
     "text": [
      "      Id  OrderId  ProductId  UnitPrice  Quantity  Discount\n",
      "10248/11    10248         11       14.0        12       0.0\n",
      "10248/42    10248         42        9.8        10       0.0\n",
      "10248/72    10248         72       34.8         5       0.0\n",
      "10249/14    10249         14       18.6         9       0.0\n",
      "10249/51    10249         51       42.4        40       0.0\n"
     ]
    }
   ],
   "source": [
    "import pandas as pd\n",
    "import sqlite3\n",
    "\n",
    "conn = sqlite3.connect(\"northwind_small.sqlite\")\n",
    "\n",
    "# query = '''\n",
    "#     SELECT product, SUM(quantity) AS total_qty, SUM(quantity * price) AS\n",
    "# revenue FROM sales GROUP BY product;\n",
    "# '''\n",
    "query = '''\n",
    "    SELECT * from orderDetail limit 5;\n",
    "'''\n",
    "\n",
    "# Load into pandas\n",
    "df = pd.read_sql_query(query, conn)\n",
    "conn.close()\n",
    "\n",
    "print(df.to_string(index=False))"
   ]
  },
  {
   "cell_type": "code",
   "execution_count": 19,
   "id": "223252b9",
   "metadata": {},
   "outputs": [
    {
     "name": "stdout",
     "output_type": "stream",
     "text": [
      " ProductId  total_qty   revenue\n",
      "         1        828  14277.60\n",
      "         2       1057  18559.20\n",
      "         3        328   3080.00\n",
      "         4        453   9424.80\n",
      "         5        298   5801.15\n",
      "         6        301   7345.00\n",
      "         7        763  22464.00\n",
      "         8        372  13760.00\n",
      "         9         95   8827.00\n",
      "        10        742  22140.20\n",
      "        11        706  13902.00\n",
      "        12        344  12866.80\n",
      "        13        891   5234.40\n",
      "        14        404   8630.40\n",
      "        15        122   1813.50\n",
      "        16       1158  18748.05\n",
      "        17        978  35482.20\n",
      "        18        539  31987.50\n",
      "        19        723   6159.50\n",
      "        20        313  23635.80\n",
      "        21       1016   9636.00\n",
      "        22        348   7232.40\n",
      "        23        580   4840.20\n",
      "        24       1125   4782.60\n",
      "        25        318   4051.60\n",
      "        26        753  21534.90\n",
      "        27        365  15231.50\n",
      "        28        640  26865.60\n",
      "        29        746  87736.40\n",
      "        30        612  14775.54\n",
      "        31       1397  16172.50\n",
      "        32        297   9171.20\n",
      "        33        755   1713.50\n",
      "        34        506   6678.00\n",
      "        35        883  14536.80\n",
      "        36        805  14542.60\n",
      "        37        125   3047.20\n",
      "        38        623 149984.20\n",
      "        39        793  13150.80\n",
      "        40       1103  19048.30\n",
      "        41        981   9098.10\n",
      "        42        697   9332.40\n",
      "        43        580  25079.20\n",
      "        44        601  10524.20\n",
      "        45        508   4740.50\n",
      "        46        548   6144.00\n",
      "        47        485   4358.60\n",
      "        48        138   1542.75\n",
      "        49        520   9500.00\n",
      "        50        235   3510.00\n",
      "        51        886  44742.60\n",
      "        52        500   3383.80\n",
      "        53        722  21510.20\n",
      "        54        755   5121.00\n",
      "        55        903  19512.00\n",
      "        56       1263  45121.20\n",
      "        57        434   7807.80\n",
      "        58        534   6664.75\n",
      "        59       1496  76296.00\n",
      "        60       1577  50286.00\n",
      "        61        603  16438.80\n",
      "        62       1083  49827.90\n",
      "        63        445  17696.30\n",
      "        64        740  23009.00\n",
      "        65        745  14607.00\n",
      "        66        239   3519.00\n",
      "        67        184   2562.00\n",
      "        68        799   9362.50\n",
      "        69        714  24307.20\n",
      "        70        817  11472.00\n",
      "        71       1057  20876.50\n",
      "        72        806  25738.80\n",
      "        73        293   4200.00\n",
      "        74        297   2566.00\n",
      "        75       1155   8650.55\n",
      "        76        981  16794.00\n",
      "        77        791   9685.00\n"
     ]
    },
    {
     "data": {
      "text/plain": [
       "<Axes: xlabel='ProductId'>"
      ]
     },
     "execution_count": 19,
     "metadata": {},
     "output_type": "execute_result"
    },
    {
     "data": {
      "image/png": "[encoded data removed]",
      "text/plain": [
       "<Figure size 640x480 with 1 Axes>"
      ]
     },
     "metadata": {},
     "output_type": "display_data"
    }
   ],
   "source": [
    "import pandas as pd\n",
    "import sqlite3\n",
    "\n",
    "conn = sqlite3.connect(\"northwind_small.sqlite\")\n",
    "\n",
    "query = '''\n",
    "    SELECT ProductId, SUM(Quantity) AS total_qty, SUM(Quantity * UnitPrice) AS\n",
    "revenue FROM orderDetail GROUP BY ProductId;\n",
    "'''\n",
    "\n",
    "# Load into pandas\n",
    "df = pd.read_sql_query(query, conn)\n",
    "conn.close()\n",
    "\n",
    "print(df.to_string(index=False))\n",
    "\n",
    "df.plot(kind='bar', x='ProductId', y='revenue')"
   ]
  }
 ],
 "metadata": {
  "kernelspec": {
   "display_name": "Python 3",
   "language": "python",
   "name": "python3"
  },
  "language_info": {
   "codemirror_mode": {
    "name": "ipython",
    "version": 3
   },
   "file_extension": ".py",
   "mimetype": "text/x-python",
   "name": "python",
   "nbconvert_exporter": "python",
   "pygments_lexer": "ipython3",
   "version": "3.13.3"
  }
 },
 "nbformat": 4,
 "nbformat_minor": 5
}
